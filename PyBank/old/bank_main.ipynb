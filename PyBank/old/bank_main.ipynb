{
 "cells": [
  {
   "cell_type": "code",
   "execution_count": 81,
   "id": "4945aa14-fd96-4c15-aaca-5f0430d478ce",
   "metadata": {},
   "outputs": [],
   "source": [
    "import pandas as pd\n",
    "from pathlib import Path"
   ]
  },
  {
   "cell_type": "code",
   "execution_count": 82,
   "id": "d1d3f96d-0341-4b1f-9f2c-4950fd3376ab",
   "metadata": {},
   "outputs": [],
   "source": [
    "# CSV filepath\n",
    "csv_path = Path(\"Resources/budget_data.csv\", header=0)"
   ]
  },
  {
   "cell_type": "code",
   "execution_count": 83,
   "id": "b92a80eb-b85f-4c9f-8b29-772971121658",
   "metadata": {},
   "outputs": [
    {
     "data": {
      "text/html": [
       "<div>\n",
       "<style scoped>\n",
       "    .dataframe tbody tr th:only-of-type {\n",
       "        vertical-align: middle;\n",
       "    }\n",
       "\n",
       "    .dataframe tbody tr th {\n",
       "        vertical-align: top;\n",
       "    }\n",
       "\n",
       "    .dataframe thead th {\n",
       "        text-align: right;\n",
       "    }\n",
       "</style>\n",
       "<table border=\"1\" class=\"dataframe\">\n",
       "  <thead>\n",
       "    <tr style=\"text-align: right;\">\n",
       "      <th></th>\n",
       "      <th>Date</th>\n",
       "      <th>Profit/Losses</th>\n",
       "    </tr>\n",
       "  </thead>\n",
       "  <tbody>\n",
       "    <tr>\n",
       "      <th>0</th>\n",
       "      <td>Jan-10</td>\n",
       "      <td>1088983</td>\n",
       "    </tr>\n",
       "    <tr>\n",
       "      <th>1</th>\n",
       "      <td>Feb-10</td>\n",
       "      <td>-354534</td>\n",
       "    </tr>\n",
       "    <tr>\n",
       "      <th>2</th>\n",
       "      <td>Mar-10</td>\n",
       "      <td>276622</td>\n",
       "    </tr>\n",
       "    <tr>\n",
       "      <th>3</th>\n",
       "      <td>Apr-10</td>\n",
       "      <td>-728133</td>\n",
       "    </tr>\n",
       "    <tr>\n",
       "      <th>4</th>\n",
       "      <td>May-10</td>\n",
       "      <td>852993</td>\n",
       "    </tr>\n",
       "  </tbody>\n",
       "</table>\n",
       "</div>"
      ],
      "text/plain": [
       "     Date  Profit/Losses\n",
       "0  Jan-10        1088983\n",
       "1  Feb-10        -354534\n",
       "2  Mar-10         276622\n",
       "3  Apr-10        -728133\n",
       "4  May-10         852993"
      ]
     },
     "execution_count": 83,
     "metadata": {},
     "output_type": "execute_result"
    }
   ],
   "source": [
    "# read CSV file into DF\n",
    "bank_df = pd.read_csv(csv_path)\n",
    "bank_df.head()"
   ]
  },
  {
   "cell_type": "code",
   "execution_count": 84,
   "id": "ce184364-e9e6-4bcb-8176-c0d69fcbb506",
   "metadata": {},
   "outputs": [],
   "source": [
    "# The total number of months included in the dataset\n",
    "total_months = bank_df['Date'].nunique()"
   ]
  },
  {
   "cell_type": "code",
   "execution_count": 85,
   "id": "93d48c7b-f9bc-4764-96ee-ef9e7c90d9d6",
   "metadata": {},
   "outputs": [],
   "source": [
    "# The net total amount of \"Profit/Losses\" over the entire period\n",
    "net_total = bank_df['Profit/Losses'].sum()"
   ]
  },
  {
   "cell_type": "code",
   "execution_count": 86,
   "id": "b92b0180-55df-4da5-af7a-b453c89e50a4",
   "metadata": {},
   "outputs": [],
   "source": [
    "# The changes in \"Profit/Losses\" over the entire period, and then the average of those changes\n",
    "bank_df['Change'] = bank_df['Profit/Losses'].diff()"
   ]
  },
  {
   "cell_type": "code",
   "execution_count": 87,
   "id": "0503e1d2-25a3-4a17-b3b5-f72d03fba623",
   "metadata": {},
   "outputs": [],
   "source": [
    "# The greatest increase in profits (date and amount) over the entire period\n",
    "greatest_increase = bank_df.loc[bank_df['Change'].idxmax()]"
   ]
  },
  {
   "cell_type": "code",
   "execution_count": 88,
   "id": "228def1b-f5f3-434a-81d4-f108a2defca9",
   "metadata": {},
   "outputs": [],
   "source": [
    "# The greatest decrease in profits (date and amount) over the entire period\n",
    "greatest_decrease = bank_df.loc[bank_df['Change'].idxmin()]"
   ]
  },
  {
   "cell_type": "code",
   "execution_count": 89,
   "id": "14052b60-bc6f-429f-969d-081daa8b92be",
   "metadata": {},
   "outputs": [],
   "source": [
    "# average of those changes\n",
    "average_change = bank_df['Change'].mean()"
   ]
  },
  {
   "cell_type": "code",
   "execution_count": 90,
   "id": "46cda524-d9a3-4fde-b8a6-e620e44b74b1",
   "metadata": {},
   "outputs": [],
   "source": [
    "# making the analysis fit the instruction example\n",
    "analysis_df = (\n",
    "    \"Financial Analysis\\n\"\n",
    "    \"----------------------------\\n\"\n",
    "    f\"Total Months: {total_months}\\n\"\n",
    "    f\"Total: ${net_total}\\n\"\n",
    "    f\"Average Change: ${average_change:.2f}\\n\"\n",
    "    f\"Greatest Increase in Profits: {greatest_increase['Date']} (${greatest_increase['Change']})\\n\"\n",
    "    f\"Greatest Decrease in Profits: {greatest_decrease['Date']} (${greatest_decrease['Change']})\\n\"\n",
    ")"
   ]
  },
  {
   "cell_type": "code",
   "execution_count": 91,
   "id": "bbf26fed-d546-4070-84a6-19bb710ae08b",
   "metadata": {},
   "outputs": [
    {
     "name": "stdout",
     "output_type": "stream",
     "text": [
      "Financial Analysis\n",
      "----------------------------\n",
      "Total Months: 86\n",
      "Total: $22564198\n",
      "Average Change: $-8311.11\n",
      "Greatest Increase in Profits: Aug-16 ($1862002.0)\n",
      "Greatest Decrease in Profits: Feb-14 ($-1825558.0)\n",
      "\n"
     ]
    }
   ],
   "source": [
    "# Export the DataFrame to .txt\n",
    "with open('bank_analysis.txt', 'w') as file:\n",
    "    file.write(analysis_df)\n",
    "print(analysis_df)"
   ]
  },
  {
   "cell_type": "code",
   "execution_count": null,
   "id": "062e26d6-f238-4fee-b30a-713ab5d271d1",
   "metadata": {},
   "outputs": [],
   "source": []
  }
 ],
 "metadata": {
  "kernelspec": {
   "display_name": "Python 3 (ipykernel)",
   "language": "python",
   "name": "python3"
  },
  "language_info": {
   "codemirror_mode": {
    "name": "ipython",
    "version": 3
   },
   "file_extension": ".py",
   "mimetype": "text/x-python",
   "name": "python",
   "nbconvert_exporter": "python",
   "pygments_lexer": "ipython3",
   "version": "3.10.14"
  }
 },
 "nbformat": 4,
 "nbformat_minor": 5
}
