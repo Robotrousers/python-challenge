{
 "cells": [
  {
   "cell_type": "code",
   "execution_count": null,
   "id": "4945aa14-fd96-4c15-aaca-5f0430d478ce",
   "metadata": {},
   "outputs": [],
   "source": [
    "import pandas as pd\n",
    "from pathlib import Path"
   ]
  },
  {
   "cell_type": "code",
   "execution_count": 60,
   "id": "d1d3f96d-0341-4b1f-9f2c-4950fd3376ab",
   "metadata": {},
   "outputs": [],
   "source": [
    "# CSV filepath\n",
    "csv_path = Path(\"Resources/election_data.csv\", header=0)"
   ]
  },
  {
   "cell_type": "code",
   "execution_count": 61,
   "id": "b92a80eb-b85f-4c9f-8b29-772971121658",
   "metadata": {},
   "outputs": [
    {
     "data": {
      "text/html": [
       "<div>\n",
       "<style scoped>\n",
       "    .dataframe tbody tr th:only-of-type {\n",
       "        vertical-align: middle;\n",
       "    }\n",
       "\n",
       "    .dataframe tbody tr th {\n",
       "        vertical-align: top;\n",
       "    }\n",
       "\n",
       "    .dataframe thead th {\n",
       "        text-align: right;\n",
       "    }\n",
       "</style>\n",
       "<table border=\"1\" class=\"dataframe\">\n",
       "  <thead>\n",
       "    <tr style=\"text-align: right;\">\n",
       "      <th></th>\n",
       "      <th>Ballot ID</th>\n",
       "      <th>County</th>\n",
       "      <th>Candidate</th>\n",
       "    </tr>\n",
       "  </thead>\n",
       "  <tbody>\n",
       "    <tr>\n",
       "      <th>0</th>\n",
       "      <td>1323913</td>\n",
       "      <td>Jefferson</td>\n",
       "      <td>Charles Casper Stockham</td>\n",
       "    </tr>\n",
       "    <tr>\n",
       "      <th>1</th>\n",
       "      <td>1005842</td>\n",
       "      <td>Jefferson</td>\n",
       "      <td>Charles Casper Stockham</td>\n",
       "    </tr>\n",
       "    <tr>\n",
       "      <th>2</th>\n",
       "      <td>1880345</td>\n",
       "      <td>Jefferson</td>\n",
       "      <td>Charles Casper Stockham</td>\n",
       "    </tr>\n",
       "    <tr>\n",
       "      <th>3</th>\n",
       "      <td>1600337</td>\n",
       "      <td>Jefferson</td>\n",
       "      <td>Charles Casper Stockham</td>\n",
       "    </tr>\n",
       "    <tr>\n",
       "      <th>4</th>\n",
       "      <td>1835994</td>\n",
       "      <td>Jefferson</td>\n",
       "      <td>Charles Casper Stockham</td>\n",
       "    </tr>\n",
       "  </tbody>\n",
       "</table>\n",
       "</div>"
      ],
      "text/plain": [
       "   Ballot ID     County                Candidate\n",
       "0    1323913  Jefferson  Charles Casper Stockham\n",
       "1    1005842  Jefferson  Charles Casper Stockham\n",
       "2    1880345  Jefferson  Charles Casper Stockham\n",
       "3    1600337  Jefferson  Charles Casper Stockham\n",
       "4    1835994  Jefferson  Charles Casper Stockham"
      ]
     },
     "execution_count": 61,
     "metadata": {},
     "output_type": "execute_result"
    }
   ],
   "source": [
    "# read CSV file into DF\n",
    "poll_df = pd.read_csv(csv_path)\n",
    "poll_df.head()"
   ]
  },
  {
   "cell_type": "code",
   "execution_count": 62,
   "id": "ce184364-e9e6-4bcb-8176-c0d69fcbb506",
   "metadata": {},
   "outputs": [
    {
     "data": {
      "text/plain": [
       "369711"
      ]
     },
     "execution_count": 62,
     "metadata": {},
     "output_type": "execute_result"
    }
   ],
   "source": [
    "# The total number of votes cast\n",
    "total_votes = len(poll_df)\n",
    "total_votes"
   ]
  },
  {
   "cell_type": "code",
   "execution_count": 63,
   "id": "93d48c7b-f9bc-4764-96ee-ef9e7c90d9d6",
   "metadata": {},
   "outputs": [
    {
     "name": "stdout",
     "output_type": "stream",
     "text": [
      "['Charles Casper Stockham' 'Diana DeGette' 'Raymon Anthony Doane']\n"
     ]
    }
   ],
   "source": [
    "# A complete list of candidates who received votes\n",
    "candidates_df = poll_df[\"Candidate\"].unique()\n",
    "print(candidates_df)"
   ]
  },
  {
   "cell_type": "code",
   "execution_count": 64,
   "id": "b92b0180-55df-4da5-af7a-b453c89e50a4",
   "metadata": {},
   "outputs": [
    {
     "data": {
      "text/plain": [
       "Candidate\n",
       "Diana DeGette              73.812248\n",
       "Charles Casper Stockham    23.048543\n",
       "Raymon Anthony Doane        3.139209\n",
       "Name: count, dtype: float64"
      ]
     },
     "execution_count": 64,
     "metadata": {},
     "output_type": "execute_result"
    }
   ],
   "source": [
    "# The percentage of votes each candidate won\n",
    "candidates_count_df = poll_df['Candidate'].value_counts()\n",
    "candidate_percentages = (candidates_count_df / total_votes) * 100\n",
    "candidate_percentages"
   ]
  },
  {
   "cell_type": "code",
   "execution_count": 65,
   "id": "14052b60-bc6f-429f-969d-081daa8b92be",
   "metadata": {},
   "outputs": [
    {
     "data": {
      "text/plain": [
       "'Diana DeGette'"
      ]
     },
     "execution_count": 65,
     "metadata": {},
     "output_type": "execute_result"
    }
   ],
   "source": [
    "# The winner of the election based on popular vote\n",
    "winner = candidates_count_df.idxmax()\n",
    "winner"
   ]
  },
  {
   "cell_type": "code",
   "execution_count": 66,
   "id": "46cda524-d9a3-4fde-b8a6-e620e44b74b1",
   "metadata": {},
   "outputs": [],
   "source": [
    "# Prepare the analysis results\n",
    "analysis_df = (\n",
    "    \"Election Results\\n\"\n",
    "    \"-------------------------\\n\"\n",
    "    f\"Total Votes: {total_votes}\\n\"\n",
    "    \"-------------------------\\n\"\n",
    ")\n",
    "\n",
    "for candidate in candidates_df:\n",
    "    analysis_df += f\"{candidate}: {candidate_percentages[candidate]:.3f}% ({candidates_count_df[candidate]})\\n\"\n",
    "\n",
    "analysis_df += \"-------------------------\\n\"\n",
    "analysis_df += f\"Winner: {winner}\\n\"\n",
    "analysis_df += \"-------------------------\\n\""
   ]
  },
  {
   "cell_type": "code",
   "execution_count": 67,
   "id": "6dfa0e52-908e-45ce-bcfa-65173e0cd7b8",
   "metadata": {},
   "outputs": [
    {
     "name": "stdout",
     "output_type": "stream",
     "text": [
      "Election Results\n",
      "-------------------------\n",
      "Total Votes: 369711\n",
      "-------------------------\n",
      "Charles Casper Stockham: 23.049% (85213)\n",
      "Diana DeGette: 73.812% (272892)\n",
      "Raymon Anthony Doane: 3.139% (11606)\n",
      "-------------------------\n",
      "Winner: Diana DeGette\n",
      "-------------------------\n",
      "\n"
     ]
    }
   ],
   "source": [
    "# Export the analysis dataframe to .txt\n",
    "print(analysis_df)\n",
    "with open('poll_analysis.txt', 'w') as file:\n",
    "    file.write(analysis_df)"
   ]
  }
 ],
 "metadata": {
  "kernelspec": {
   "display_name": "Python 3 (ipykernel)",
   "language": "python",
   "name": "python3"
  },
  "language_info": {
   "codemirror_mode": {
    "name": "ipython",
    "version": 3
   },
   "file_extension": ".py",
   "mimetype": "text/x-python",
   "name": "python",
   "nbconvert_exporter": "python",
   "pygments_lexer": "ipython3",
   "version": "3.10.14"
  }
 },
 "nbformat": 4,
 "nbformat_minor": 5
}
